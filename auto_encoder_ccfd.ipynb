{
 "cells": [
  {
   "cell_type": "markdown",
   "metadata": {},
   "source": [
    "## Importing related library"
   ]
  },
  {
   "cell_type": "code",
   "execution_count": 52,
   "metadata": {},
   "outputs": [],
   "source": [
    "import os\n",
    "import pandas as pd\n",
    "import numpy as np\n",
    "import matplotlib.pyplot as plt\n",
    "import seaborn as sns \n",
    "from sklearn.model_selection import train_test_split\n",
    "from keras.models import Model, load_model\n",
    "from keras.layers import Input, Dense\n",
    "from keras.callbacks import ModelCheckpoint, TensorBoard\n",
    "from keras import regularizers\n",
    "\n",
    "LABELS = [\"Normal\", \"Fraud\"]"
   ]
  },
  {
   "cell_type": "code",
   "execution_count": 3,
   "metadata": {},
   "outputs": [
    {
     "data": {
      "text/html": [
       "<div>\n",
       "<style scoped>\n",
       "    .dataframe tbody tr th:only-of-type {\n",
       "        vertical-align: middle;\n",
       "    }\n",
       "\n",
       "    .dataframe tbody tr th {\n",
       "        vertical-align: top;\n",
       "    }\n",
       "\n",
       "    .dataframe thead th {\n",
       "        text-align: right;\n",
       "    }\n",
       "</style>\n",
       "<table border=\"1\" class=\"dataframe\">\n",
       "  <thead>\n",
       "    <tr style=\"text-align: right;\">\n",
       "      <th></th>\n",
       "      <th>Time</th>\n",
       "      <th>V1</th>\n",
       "      <th>V2</th>\n",
       "      <th>V3</th>\n",
       "      <th>V4</th>\n",
       "      <th>V5</th>\n",
       "      <th>V6</th>\n",
       "      <th>V7</th>\n",
       "      <th>V8</th>\n",
       "      <th>V9</th>\n",
       "      <th>...</th>\n",
       "      <th>V21</th>\n",
       "      <th>V22</th>\n",
       "      <th>V23</th>\n",
       "      <th>V24</th>\n",
       "      <th>V25</th>\n",
       "      <th>V26</th>\n",
       "      <th>V27</th>\n",
       "      <th>V28</th>\n",
       "      <th>Amount</th>\n",
       "      <th>Class</th>\n",
       "    </tr>\n",
       "  </thead>\n",
       "  <tbody>\n",
       "    <tr>\n",
       "      <th>0</th>\n",
       "      <td>0.0</td>\n",
       "      <td>-1.359807</td>\n",
       "      <td>-0.072781</td>\n",
       "      <td>2.536347</td>\n",
       "      <td>1.378155</td>\n",
       "      <td>-0.338321</td>\n",
       "      <td>0.462388</td>\n",
       "      <td>0.239599</td>\n",
       "      <td>0.098698</td>\n",
       "      <td>0.363787</td>\n",
       "      <td>...</td>\n",
       "      <td>-0.018307</td>\n",
       "      <td>0.277838</td>\n",
       "      <td>-0.110474</td>\n",
       "      <td>0.066928</td>\n",
       "      <td>0.128539</td>\n",
       "      <td>-0.189115</td>\n",
       "      <td>0.133558</td>\n",
       "      <td>-0.021053</td>\n",
       "      <td>149.62</td>\n",
       "      <td>0</td>\n",
       "    </tr>\n",
       "    <tr>\n",
       "      <th>1</th>\n",
       "      <td>0.0</td>\n",
       "      <td>1.191857</td>\n",
       "      <td>0.266151</td>\n",
       "      <td>0.166480</td>\n",
       "      <td>0.448154</td>\n",
       "      <td>0.060018</td>\n",
       "      <td>-0.082361</td>\n",
       "      <td>-0.078803</td>\n",
       "      <td>0.085102</td>\n",
       "      <td>-0.255425</td>\n",
       "      <td>...</td>\n",
       "      <td>-0.225775</td>\n",
       "      <td>-0.638672</td>\n",
       "      <td>0.101288</td>\n",
       "      <td>-0.339846</td>\n",
       "      <td>0.167170</td>\n",
       "      <td>0.125895</td>\n",
       "      <td>-0.008983</td>\n",
       "      <td>0.014724</td>\n",
       "      <td>2.69</td>\n",
       "      <td>0</td>\n",
       "    </tr>\n",
       "    <tr>\n",
       "      <th>2</th>\n",
       "      <td>1.0</td>\n",
       "      <td>-1.358354</td>\n",
       "      <td>-1.340163</td>\n",
       "      <td>1.773209</td>\n",
       "      <td>0.379780</td>\n",
       "      <td>-0.503198</td>\n",
       "      <td>1.800499</td>\n",
       "      <td>0.791461</td>\n",
       "      <td>0.247676</td>\n",
       "      <td>-1.514654</td>\n",
       "      <td>...</td>\n",
       "      <td>0.247998</td>\n",
       "      <td>0.771679</td>\n",
       "      <td>0.909412</td>\n",
       "      <td>-0.689281</td>\n",
       "      <td>-0.327642</td>\n",
       "      <td>-0.139097</td>\n",
       "      <td>-0.055353</td>\n",
       "      <td>-0.059752</td>\n",
       "      <td>378.66</td>\n",
       "      <td>0</td>\n",
       "    </tr>\n",
       "    <tr>\n",
       "      <th>3</th>\n",
       "      <td>1.0</td>\n",
       "      <td>-0.966272</td>\n",
       "      <td>-0.185226</td>\n",
       "      <td>1.792993</td>\n",
       "      <td>-0.863291</td>\n",
       "      <td>-0.010309</td>\n",
       "      <td>1.247203</td>\n",
       "      <td>0.237609</td>\n",
       "      <td>0.377436</td>\n",
       "      <td>-1.387024</td>\n",
       "      <td>...</td>\n",
       "      <td>-0.108300</td>\n",
       "      <td>0.005274</td>\n",
       "      <td>-0.190321</td>\n",
       "      <td>-1.175575</td>\n",
       "      <td>0.647376</td>\n",
       "      <td>-0.221929</td>\n",
       "      <td>0.062723</td>\n",
       "      <td>0.061458</td>\n",
       "      <td>123.50</td>\n",
       "      <td>0</td>\n",
       "    </tr>\n",
       "    <tr>\n",
       "      <th>4</th>\n",
       "      <td>2.0</td>\n",
       "      <td>-1.158233</td>\n",
       "      <td>0.877737</td>\n",
       "      <td>1.548718</td>\n",
       "      <td>0.403034</td>\n",
       "      <td>-0.407193</td>\n",
       "      <td>0.095921</td>\n",
       "      <td>0.592941</td>\n",
       "      <td>-0.270533</td>\n",
       "      <td>0.817739</td>\n",
       "      <td>...</td>\n",
       "      <td>-0.009431</td>\n",
       "      <td>0.798278</td>\n",
       "      <td>-0.137458</td>\n",
       "      <td>0.141267</td>\n",
       "      <td>-0.206010</td>\n",
       "      <td>0.502292</td>\n",
       "      <td>0.219422</td>\n",
       "      <td>0.215153</td>\n",
       "      <td>69.99</td>\n",
       "      <td>0</td>\n",
       "    </tr>\n",
       "  </tbody>\n",
       "</table>\n",
       "<p>5 rows × 31 columns</p>\n",
       "</div>"
      ],
      "text/plain": [
       "   Time        V1        V2        V3        V4        V5        V6        V7  \\\n",
       "0   0.0 -1.359807 -0.072781  2.536347  1.378155 -0.338321  0.462388  0.239599   \n",
       "1   0.0  1.191857  0.266151  0.166480  0.448154  0.060018 -0.082361 -0.078803   \n",
       "2   1.0 -1.358354 -1.340163  1.773209  0.379780 -0.503198  1.800499  0.791461   \n",
       "3   1.0 -0.966272 -0.185226  1.792993 -0.863291 -0.010309  1.247203  0.237609   \n",
       "4   2.0 -1.158233  0.877737  1.548718  0.403034 -0.407193  0.095921  0.592941   \n",
       "\n",
       "         V8        V9  ...       V21       V22       V23       V24       V25  \\\n",
       "0  0.098698  0.363787  ... -0.018307  0.277838 -0.110474  0.066928  0.128539   \n",
       "1  0.085102 -0.255425  ... -0.225775 -0.638672  0.101288 -0.339846  0.167170   \n",
       "2  0.247676 -1.514654  ...  0.247998  0.771679  0.909412 -0.689281 -0.327642   \n",
       "3  0.377436 -1.387024  ... -0.108300  0.005274 -0.190321 -1.175575  0.647376   \n",
       "4 -0.270533  0.817739  ... -0.009431  0.798278 -0.137458  0.141267 -0.206010   \n",
       "\n",
       "        V26       V27       V28  Amount  Class  \n",
       "0 -0.189115  0.133558 -0.021053  149.62      0  \n",
       "1  0.125895 -0.008983  0.014724    2.69      0  \n",
       "2 -0.139097 -0.055353 -0.059752  378.66      0  \n",
       "3 -0.221929  0.062723  0.061458  123.50      0  \n",
       "4  0.502292  0.219422  0.215153   69.99      0  \n",
       "\n",
       "[5 rows x 31 columns]"
      ]
     },
     "execution_count": 3,
     "metadata": {},
     "output_type": "execute_result"
    }
   ],
   "source": [
    "dataset = pd.read_csv(\"./Dataset/creditcard.csv\")\n",
    "dataset.head()"
   ]
  },
  {
   "cell_type": "code",
   "execution_count": 4,
   "metadata": {},
   "outputs": [
    {
     "data": {
      "text/html": [
       "<div>\n",
       "<style scoped>\n",
       "    .dataframe tbody tr th:only-of-type {\n",
       "        vertical-align: middle;\n",
       "    }\n",
       "\n",
       "    .dataframe tbody tr th {\n",
       "        vertical-align: top;\n",
       "    }\n",
       "\n",
       "    .dataframe thead th {\n",
       "        text-align: right;\n",
       "    }\n",
       "</style>\n",
       "<table border=\"1\" class=\"dataframe\">\n",
       "  <thead>\n",
       "    <tr style=\"text-align: right;\">\n",
       "      <th></th>\n",
       "      <th>Time</th>\n",
       "      <th>V1</th>\n",
       "      <th>V2</th>\n",
       "      <th>V3</th>\n",
       "      <th>V4</th>\n",
       "      <th>V5</th>\n",
       "      <th>V6</th>\n",
       "      <th>V7</th>\n",
       "      <th>V8</th>\n",
       "      <th>V9</th>\n",
       "      <th>...</th>\n",
       "      <th>V21</th>\n",
       "      <th>V22</th>\n",
       "      <th>V23</th>\n",
       "      <th>V24</th>\n",
       "      <th>V25</th>\n",
       "      <th>V26</th>\n",
       "      <th>V27</th>\n",
       "      <th>V28</th>\n",
       "      <th>Amount</th>\n",
       "      <th>Class</th>\n",
       "    </tr>\n",
       "  </thead>\n",
       "  <tbody>\n",
       "    <tr>\n",
       "      <th>0</th>\n",
       "      <td>0.0</td>\n",
       "      <td>-1.359807</td>\n",
       "      <td>-0.072781</td>\n",
       "      <td>2.536347</td>\n",
       "      <td>1.378155</td>\n",
       "      <td>-0.338321</td>\n",
       "      <td>0.462388</td>\n",
       "      <td>0.239599</td>\n",
       "      <td>0.098698</td>\n",
       "      <td>0.363787</td>\n",
       "      <td>...</td>\n",
       "      <td>-0.018307</td>\n",
       "      <td>0.277838</td>\n",
       "      <td>-0.110474</td>\n",
       "      <td>0.066928</td>\n",
       "      <td>0.128539</td>\n",
       "      <td>-0.189115</td>\n",
       "      <td>0.133558</td>\n",
       "      <td>-0.021053</td>\n",
       "      <td>149.62</td>\n",
       "      <td>0</td>\n",
       "    </tr>\n",
       "    <tr>\n",
       "      <th>1</th>\n",
       "      <td>0.0</td>\n",
       "      <td>1.191857</td>\n",
       "      <td>0.266151</td>\n",
       "      <td>0.166480</td>\n",
       "      <td>0.448154</td>\n",
       "      <td>0.060018</td>\n",
       "      <td>-0.082361</td>\n",
       "      <td>-0.078803</td>\n",
       "      <td>0.085102</td>\n",
       "      <td>-0.255425</td>\n",
       "      <td>...</td>\n",
       "      <td>-0.225775</td>\n",
       "      <td>-0.638672</td>\n",
       "      <td>0.101288</td>\n",
       "      <td>-0.339846</td>\n",
       "      <td>0.167170</td>\n",
       "      <td>0.125895</td>\n",
       "      <td>-0.008983</td>\n",
       "      <td>0.014724</td>\n",
       "      <td>2.69</td>\n",
       "      <td>0</td>\n",
       "    </tr>\n",
       "    <tr>\n",
       "      <th>2</th>\n",
       "      <td>1.0</td>\n",
       "      <td>-1.358354</td>\n",
       "      <td>-1.340163</td>\n",
       "      <td>1.773209</td>\n",
       "      <td>0.379780</td>\n",
       "      <td>-0.503198</td>\n",
       "      <td>1.800499</td>\n",
       "      <td>0.791461</td>\n",
       "      <td>0.247676</td>\n",
       "      <td>-1.514654</td>\n",
       "      <td>...</td>\n",
       "      <td>0.247998</td>\n",
       "      <td>0.771679</td>\n",
       "      <td>0.909412</td>\n",
       "      <td>-0.689281</td>\n",
       "      <td>-0.327642</td>\n",
       "      <td>-0.139097</td>\n",
       "      <td>-0.055353</td>\n",
       "      <td>-0.059752</td>\n",
       "      <td>378.66</td>\n",
       "      <td>0</td>\n",
       "    </tr>\n",
       "    <tr>\n",
       "      <th>3</th>\n",
       "      <td>1.0</td>\n",
       "      <td>-0.966272</td>\n",
       "      <td>-0.185226</td>\n",
       "      <td>1.792993</td>\n",
       "      <td>-0.863291</td>\n",
       "      <td>-0.010309</td>\n",
       "      <td>1.247203</td>\n",
       "      <td>0.237609</td>\n",
       "      <td>0.377436</td>\n",
       "      <td>-1.387024</td>\n",
       "      <td>...</td>\n",
       "      <td>-0.108300</td>\n",
       "      <td>0.005274</td>\n",
       "      <td>-0.190321</td>\n",
       "      <td>-1.175575</td>\n",
       "      <td>0.647376</td>\n",
       "      <td>-0.221929</td>\n",
       "      <td>0.062723</td>\n",
       "      <td>0.061458</td>\n",
       "      <td>123.50</td>\n",
       "      <td>0</td>\n",
       "    </tr>\n",
       "    <tr>\n",
       "      <th>4</th>\n",
       "      <td>2.0</td>\n",
       "      <td>-1.158233</td>\n",
       "      <td>0.877737</td>\n",
       "      <td>1.548718</td>\n",
       "      <td>0.403034</td>\n",
       "      <td>-0.407193</td>\n",
       "      <td>0.095921</td>\n",
       "      <td>0.592941</td>\n",
       "      <td>-0.270533</td>\n",
       "      <td>0.817739</td>\n",
       "      <td>...</td>\n",
       "      <td>-0.009431</td>\n",
       "      <td>0.798278</td>\n",
       "      <td>-0.137458</td>\n",
       "      <td>0.141267</td>\n",
       "      <td>-0.206010</td>\n",
       "      <td>0.502292</td>\n",
       "      <td>0.219422</td>\n",
       "      <td>0.215153</td>\n",
       "      <td>69.99</td>\n",
       "      <td>0</td>\n",
       "    </tr>\n",
       "  </tbody>\n",
       "</table>\n",
       "<p>5 rows × 31 columns</p>\n",
       "</div>"
      ],
      "text/plain": [
       "   Time        V1        V2        V3        V4        V5        V6        V7  \\\n",
       "0   0.0 -1.359807 -0.072781  2.536347  1.378155 -0.338321  0.462388  0.239599   \n",
       "1   0.0  1.191857  0.266151  0.166480  0.448154  0.060018 -0.082361 -0.078803   \n",
       "2   1.0 -1.358354 -1.340163  1.773209  0.379780 -0.503198  1.800499  0.791461   \n",
       "3   1.0 -0.966272 -0.185226  1.792993 -0.863291 -0.010309  1.247203  0.237609   \n",
       "4   2.0 -1.158233  0.877737  1.548718  0.403034 -0.407193  0.095921  0.592941   \n",
       "\n",
       "         V8        V9  ...       V21       V22       V23       V24       V25  \\\n",
       "0  0.098698  0.363787  ... -0.018307  0.277838 -0.110474  0.066928  0.128539   \n",
       "1  0.085102 -0.255425  ... -0.225775 -0.638672  0.101288 -0.339846  0.167170   \n",
       "2  0.247676 -1.514654  ...  0.247998  0.771679  0.909412 -0.689281 -0.327642   \n",
       "3  0.377436 -1.387024  ... -0.108300  0.005274 -0.190321 -1.175575  0.647376   \n",
       "4 -0.270533  0.817739  ... -0.009431  0.798278 -0.137458  0.141267 -0.206010   \n",
       "\n",
       "        V26       V27       V28  Amount  Class  \n",
       "0 -0.189115  0.133558 -0.021053  149.62      0  \n",
       "1  0.125895 -0.008983  0.014724    2.69      0  \n",
       "2 -0.139097 -0.055353 -0.059752  378.66      0  \n",
       "3 -0.221929  0.062723  0.061458  123.50      0  \n",
       "4  0.502292  0.219422  0.215153   69.99      0  \n",
       "\n",
       "[5 rows x 31 columns]"
      ]
     },
     "execution_count": 4,
     "metadata": {},
     "output_type": "execute_result"
    }
   ],
   "source": [
    "features = dataset.iloc[:,]\n",
    "features.head()"
   ]
  },
  {
   "cell_type": "code",
   "execution_count": 5,
   "metadata": {},
   "outputs": [
    {
     "name": "stdout",
     "output_type": "stream",
     "text": [
      "(284807, 31)\n"
     ]
    }
   ],
   "source": [
    "print(dataset.shape)"
   ]
  },
  {
   "cell_type": "markdown",
   "metadata": {},
   "source": [
    "## To check whether any value of cell is empty or not"
   ]
  },
  {
   "cell_type": "code",
   "execution_count": 6,
   "metadata": {},
   "outputs": [
    {
     "data": {
      "text/plain": [
       "False"
      ]
     },
     "execution_count": 6,
     "metadata": {},
     "output_type": "execute_result"
    }
   ],
   "source": [
    "dataset.isnull().values.any()"
   ]
  },
  {
   "cell_type": "code",
   "execution_count": 7,
   "metadata": {},
   "outputs": [
    {
     "data": {
      "image/png": "[encoded data removed]",
      "text/plain": [
       "<Figure size 432x288 with 1 Axes>"
      ]
     },
     "metadata": {
      "needs_background": "light"
     },
     "output_type": "display_data"
    }
   ],
   "source": [
    "classes_count = pd.value_counts(dataset['Class'],sort = True).sort_index()\n",
    "classes_count.plot(kind='bar', color = \"Gray\")\n",
    "plt.title('Fraud Class Histogram', fontweight='bold', fontsize = '15', color = \"gray\")\n",
    "plt.xlabel('Class', fontweight='bold', fontsize = '15', color = \"gray\")\n",
    "plt.ylabel('Frequency', fontweight='bold', fontsize = '15', color = \"gray\")\n",
    "plt.grid(b=True, which='major', color='#666666', linestyle='-')\n",
    "plt.show()"
   ]
  },
  {
   "cell_type": "code",
   "execution_count": 8,
   "metadata": {},
   "outputs": [],
   "source": [
    "# from imblearn.over_sampling import SMOTE as sm\n",
    "# x_sampled , y_sampled = sm().fit_resample(dataset)\n",
    "# from collections import Counter ## separate collection for 0 and 1 \n",
    "# print(sorted(Counter(y_sampled).items()))"
   ]
  },
  {
   "cell_type": "code",
   "execution_count": 9,
   "metadata": {},
   "outputs": [],
   "source": [
    "from sklearn.preprocessing import StandardScaler\n",
    "\n",
    "scaler = StandardScaler()\n",
    "\n",
    "dataset['normalize_amount'] = scaler.fit_transform(dataset['Amount'].values.reshape(-1,1))\n",
    "# dataset['normalize_time'] = scaler.fit_transform(dataset['Time'].values.reshape(-1,1))\n"
   ]
  },
  {
   "cell_type": "code",
   "execution_count": 10,
   "metadata": {},
   "outputs": [],
   "source": [
    "dataset = dataset.drop(['Time'], axis = 1)\n",
    "dataset = dataset.drop(['Amount'], axis = 1)"
   ]
  },
  {
   "cell_type": "code",
   "execution_count": 12,
   "metadata": {},
   "outputs": [
    {
     "data": {
      "text/html": [
       "<div>\n",
       "<style scoped>\n",
       "    .dataframe tbody tr th:only-of-type {\n",
       "        vertical-align: middle;\n",
       "    }\n",
       "\n",
       "    .dataframe tbody tr th {\n",
       "        vertical-align: top;\n",
       "    }\n",
       "\n",
       "    .dataframe thead th {\n",
       "        text-align: right;\n",
       "    }\n",
       "</style>\n",
       "<table border=\"1\" class=\"dataframe\">\n",
       "  <thead>\n",
       "    <tr style=\"text-align: right;\">\n",
       "      <th></th>\n",
       "      <th>V1</th>\n",
       "      <th>V2</th>\n",
       "      <th>V3</th>\n",
       "      <th>V4</th>\n",
       "      <th>V5</th>\n",
       "      <th>V6</th>\n",
       "      <th>V7</th>\n",
       "      <th>V8</th>\n",
       "      <th>V9</th>\n",
       "      <th>V10</th>\n",
       "      <th>...</th>\n",
       "      <th>V20</th>\n",
       "      <th>V21</th>\n",
       "      <th>V22</th>\n",
       "      <th>V23</th>\n",
       "      <th>V24</th>\n",
       "      <th>V25</th>\n",
       "      <th>V26</th>\n",
       "      <th>V27</th>\n",
       "      <th>V28</th>\n",
       "      <th>normalize_amount</th>\n",
       "    </tr>\n",
       "  </thead>\n",
       "  <tbody>\n",
       "    <tr>\n",
       "      <th>0</th>\n",
       "      <td>-1.359807</td>\n",
       "      <td>-0.072781</td>\n",
       "      <td>2.536347</td>\n",
       "      <td>1.378155</td>\n",
       "      <td>-0.338321</td>\n",
       "      <td>0.462388</td>\n",
       "      <td>0.239599</td>\n",
       "      <td>0.098698</td>\n",
       "      <td>0.363787</td>\n",
       "      <td>0.090794</td>\n",
       "      <td>...</td>\n",
       "      <td>0.251412</td>\n",
       "      <td>-0.018307</td>\n",
       "      <td>0.277838</td>\n",
       "      <td>-0.110474</td>\n",
       "      <td>0.066928</td>\n",
       "      <td>0.128539</td>\n",
       "      <td>-0.189115</td>\n",
       "      <td>0.133558</td>\n",
       "      <td>-0.021053</td>\n",
       "      <td>0.244964</td>\n",
       "    </tr>\n",
       "    <tr>\n",
       "      <th>1</th>\n",
       "      <td>1.191857</td>\n",
       "      <td>0.266151</td>\n",
       "      <td>0.166480</td>\n",
       "      <td>0.448154</td>\n",
       "      <td>0.060018</td>\n",
       "      <td>-0.082361</td>\n",
       "      <td>-0.078803</td>\n",
       "      <td>0.085102</td>\n",
       "      <td>-0.255425</td>\n",
       "      <td>-0.166974</td>\n",
       "      <td>...</td>\n",
       "      <td>-0.069083</td>\n",
       "      <td>-0.225775</td>\n",
       "      <td>-0.638672</td>\n",
       "      <td>0.101288</td>\n",
       "      <td>-0.339846</td>\n",
       "      <td>0.167170</td>\n",
       "      <td>0.125895</td>\n",
       "      <td>-0.008983</td>\n",
       "      <td>0.014724</td>\n",
       "      <td>-0.342475</td>\n",
       "    </tr>\n",
       "    <tr>\n",
       "      <th>2</th>\n",
       "      <td>-1.358354</td>\n",
       "      <td>-1.340163</td>\n",
       "      <td>1.773209</td>\n",
       "      <td>0.379780</td>\n",
       "      <td>-0.503198</td>\n",
       "      <td>1.800499</td>\n",
       "      <td>0.791461</td>\n",
       "      <td>0.247676</td>\n",
       "      <td>-1.514654</td>\n",
       "      <td>0.207643</td>\n",
       "      <td>...</td>\n",
       "      <td>0.524980</td>\n",
       "      <td>0.247998</td>\n",
       "      <td>0.771679</td>\n",
       "      <td>0.909412</td>\n",
       "      <td>-0.689281</td>\n",
       "      <td>-0.327642</td>\n",
       "      <td>-0.139097</td>\n",
       "      <td>-0.055353</td>\n",
       "      <td>-0.059752</td>\n",
       "      <td>1.160686</td>\n",
       "    </tr>\n",
       "    <tr>\n",
       "      <th>3</th>\n",
       "      <td>-0.966272</td>\n",
       "      <td>-0.185226</td>\n",
       "      <td>1.792993</td>\n",
       "      <td>-0.863291</td>\n",
       "      <td>-0.010309</td>\n",
       "      <td>1.247203</td>\n",
       "      <td>0.237609</td>\n",
       "      <td>0.377436</td>\n",
       "      <td>-1.387024</td>\n",
       "      <td>-0.054952</td>\n",
       "      <td>...</td>\n",
       "      <td>-0.208038</td>\n",
       "      <td>-0.108300</td>\n",
       "      <td>0.005274</td>\n",
       "      <td>-0.190321</td>\n",
       "      <td>-1.175575</td>\n",
       "      <td>0.647376</td>\n",
       "      <td>-0.221929</td>\n",
       "      <td>0.062723</td>\n",
       "      <td>0.061458</td>\n",
       "      <td>0.140534</td>\n",
       "    </tr>\n",
       "    <tr>\n",
       "      <th>4</th>\n",
       "      <td>-1.158233</td>\n",
       "      <td>0.877737</td>\n",
       "      <td>1.548718</td>\n",
       "      <td>0.403034</td>\n",
       "      <td>-0.407193</td>\n",
       "      <td>0.095921</td>\n",
       "      <td>0.592941</td>\n",
       "      <td>-0.270533</td>\n",
       "      <td>0.817739</td>\n",
       "      <td>0.753074</td>\n",
       "      <td>...</td>\n",
       "      <td>0.408542</td>\n",
       "      <td>-0.009431</td>\n",
       "      <td>0.798278</td>\n",
       "      <td>-0.137458</td>\n",
       "      <td>0.141267</td>\n",
       "      <td>-0.206010</td>\n",
       "      <td>0.502292</td>\n",
       "      <td>0.219422</td>\n",
       "      <td>0.215153</td>\n",
       "      <td>-0.073403</td>\n",
       "    </tr>\n",
       "  </tbody>\n",
       "</table>\n",
       "<p>5 rows × 29 columns</p>\n",
       "</div>"
      ],
      "text/plain": [
       "         V1        V2        V3        V4        V5        V6        V7  \\\n",
       "0 -1.359807 -0.072781  2.536347  1.378155 -0.338321  0.462388  0.239599   \n",
       "1  1.191857  0.266151  0.166480  0.448154  0.060018 -0.082361 -0.078803   \n",
       "2 -1.358354 -1.340163  1.773209  0.379780 -0.503198  1.800499  0.791461   \n",
       "3 -0.966272 -0.185226  1.792993 -0.863291 -0.010309  1.247203  0.237609   \n",
       "4 -1.158233  0.877737  1.548718  0.403034 -0.407193  0.095921  0.592941   \n",
       "\n",
       "         V8        V9       V10  ...       V20       V21       V22       V23  \\\n",
       "0  0.098698  0.363787  0.090794  ...  0.251412 -0.018307  0.277838 -0.110474   \n",
       "1  0.085102 -0.255425 -0.166974  ... -0.069083 -0.225775 -0.638672  0.101288   \n",
       "2  0.247676 -1.514654  0.207643  ...  0.524980  0.247998  0.771679  0.909412   \n",
       "3  0.377436 -1.387024 -0.054952  ... -0.208038 -0.108300  0.005274 -0.190321   \n",
       "4 -0.270533  0.817739  0.753074  ...  0.408542 -0.009431  0.798278 -0.137458   \n",
       "\n",
       "        V24       V25       V26       V27       V28  normalize_amount  \n",
       "0  0.066928  0.128539 -0.189115  0.133558 -0.021053          0.244964  \n",
       "1 -0.339846  0.167170  0.125895 -0.008983  0.014724         -0.342475  \n",
       "2 -0.689281 -0.327642 -0.139097 -0.055353 -0.059752          1.160686  \n",
       "3 -1.175575  0.647376 -0.221929  0.062723  0.061458          0.140534  \n",
       "4  0.141267 -0.206010  0.502292  0.219422  0.215153         -0.073403  \n",
       "\n",
       "[5 rows x 29 columns]"
      ]
     },
     "execution_count": 12,
     "metadata": {},
     "output_type": "execute_result"
    }
   ],
   "source": [
    "features = dataset.iloc[:, dataset.columns != 'Class']\n",
    "features.head()"
   ]
  },
  {
   "cell_type": "code",
   "execution_count": 14,
   "metadata": {},
   "outputs": [
    {
     "data": {
      "text/html": [
       "<div>\n",
       "<style scoped>\n",
       "    .dataframe tbody tr th:only-of-type {\n",
       "        vertical-align: middle;\n",
       "    }\n",
       "\n",
       "    .dataframe tbody tr th {\n",
       "        vertical-align: top;\n",
       "    }\n",
       "\n",
       "    .dataframe thead th {\n",
       "        text-align: right;\n",
       "    }\n",
       "</style>\n",
       "<table border=\"1\" class=\"dataframe\">\n",
       "  <thead>\n",
       "    <tr style=\"text-align: right;\">\n",
       "      <th></th>\n",
       "      <th>Class</th>\n",
       "    </tr>\n",
       "  </thead>\n",
       "  <tbody>\n",
       "    <tr>\n",
       "      <th>0</th>\n",
       "      <td>0</td>\n",
       "    </tr>\n",
       "    <tr>\n",
       "      <th>1</th>\n",
       "      <td>0</td>\n",
       "    </tr>\n",
       "    <tr>\n",
       "      <th>2</th>\n",
       "      <td>0</td>\n",
       "    </tr>\n",
       "    <tr>\n",
       "      <th>3</th>\n",
       "      <td>0</td>\n",
       "    </tr>\n",
       "    <tr>\n",
       "      <th>4</th>\n",
       "      <td>0</td>\n",
       "    </tr>\n",
       "  </tbody>\n",
       "</table>\n",
       "</div>"
      ],
      "text/plain": [
       "   Class\n",
       "0      0\n",
       "1      0\n",
       "2      0\n",
       "3      0\n",
       "4      0"
      ]
     },
     "execution_count": 14,
     "metadata": {},
     "output_type": "execute_result"
    }
   ],
   "source": [
    "label = dataset.iloc[:, dataset.columns == 'Class']\n",
    "label.head()"
   ]
  },
  {
   "cell_type": "code",
   "execution_count": 22,
   "metadata": {},
   "outputs": [
    {
     "name": "stdout",
     "output_type": "stream",
     "text": [
      "[(0, 284315), (1, 284315)]\n"
     ]
    }
   ],
   "source": [
    "from imblearn.over_sampling import SMOTE \n",
    "sm = SMOTE(random_state= 42)\n",
    "x_Sampled,y_Sampled = sm.fit_sample(features,label.values.ravel())\n",
    "from collections import Counter ## separate collection for 0 and 1 \n",
    "print(sorted(Counter(y_Sampled).items()))"
   ]
  },
  {
   "cell_type": "code",
   "execution_count": null,
   "metadata": {},
   "outputs": [],
   "source": [
    "dataset.head()"
   ]
  },
  {
   "cell_type": "code",
   "execution_count": 26,
   "metadata": {},
   "outputs": [],
   "source": [
    "X_feature, X_target, y_feature, y_target = train_test_split(x_Sampled,y_Sampled, test_size = 0.2 , random_state = 42)\n",
    "\n",
    "\n"
   ]
  },
  {
   "cell_type": "code",
   "execution_count": 27,
   "metadata": {},
   "outputs": [],
   "source": [
    "X_feature = X_feature.values\n",
    "X_target = X_target.values"
   ]
  },
  {
   "cell_type": "code",
   "execution_count": 28,
   "metadata": {},
   "outputs": [
    {
     "data": {
      "text/plain": [
       "(454904, 29)"
      ]
     },
     "execution_count": 28,
     "metadata": {},
     "output_type": "execute_result"
    }
   ],
   "source": [
    "X_feature.shape"
   ]
  },
  {
   "cell_type": "code",
   "execution_count": 29,
   "metadata": {},
   "outputs": [
    {
     "data": {
      "text/plain": [
       "(113726, 29)"
      ]
     },
     "execution_count": 29,
     "metadata": {},
     "output_type": "execute_result"
    }
   ],
   "source": [
    "X_target.shape"
   ]
  },
  {
   "cell_type": "code",
   "execution_count": 30,
   "metadata": {},
   "outputs": [],
   "source": [
    "# dataset.head()"
   ]
  },
  {
   "cell_type": "code",
   "execution_count": 31,
   "metadata": {},
   "outputs": [
    {
     "data": {
      "text/plain": [
       "29"
      ]
     },
     "execution_count": 31,
     "metadata": {},
     "output_type": "execute_result"
    }
   ],
   "source": [
    "input_dim = X_feature.shape[1]\n",
    "input_dim"
   ]
  },
  {
   "cell_type": "code",
   "execution_count": 32,
   "metadata": {},
   "outputs": [],
   "source": [
    "encoding_dim = 14"
   ]
  },
  {
   "cell_type": "code",
   "execution_count": 33,
   "metadata": {},
   "outputs": [
    {
     "data": {
      "text/plain": [
       "7"
      ]
     },
     "execution_count": 33,
     "metadata": {},
     "output_type": "execute_result"
    }
   ],
   "source": [
    "hidden_dim = int(encoding_dim / 2)\n",
    "hidden_dim"
   ]
  },
  {
   "cell_type": "code",
   "execution_count": 34,
   "metadata": {},
   "outputs": [],
   "source": [
    "learning_rate = 1e-5"
   ]
  },
  {
   "cell_type": "code",
   "execution_count": 35,
   "metadata": {},
   "outputs": [],
   "source": [
    "input_layer = Input(shape= (input_dim,))\n",
    "\n",
    "encoder = Dense(encoding_dim, activation=\"tanh\", activity_regularizer=regularizers.l1(10e-5))(input_layer)\n",
    "encoder = Dense(hidden_dim, activation=\"relu\")(encoder)\n",
    "decoder = Dense(hidden_dim, activation='tanh')(encoder)\n",
    "decoder = Dense(input_dim, activation=\"relu\")(decoder)\n",
    "\n",
    "autoencoder = Model(inputs = input_layer, outputs = decoder)"
   ]
  },
  {
   "cell_type": "code",
   "execution_count": 36,
   "metadata": {},
   "outputs": [
    {
     "name": "stdout",
     "output_type": "stream",
     "text": [
      "Model: \"model_1\"\n",
      "_________________________________________________________________\n",
      "Layer (type)                 Output Shape              Param #   \n",
      "=================================================================\n",
      "input_1 (InputLayer)         (None, 29)                0         \n",
      "_________________________________________________________________\n",
      "dense_1 (Dense)              (None, 14)                420       \n",
      "_________________________________________________________________\n",
      "dense_2 (Dense)              (None, 7)                 105       \n",
      "_________________________________________________________________\n",
      "dense_3 (Dense)              (None, 7)                 56        \n",
      "_________________________________________________________________\n",
      "dense_4 (Dense)              (None, 29)                232       \n",
      "=================================================================\n",
      "Total params: 813\n",
      "Trainable params: 813\n",
      "Non-trainable params: 0\n",
      "_________________________________________________________________\n"
     ]
    }
   ],
   "source": [
    "autoencoder.summary()"
   ]
  },
  {
   "cell_type": "code",
   "execution_count": 37,
   "metadata": {},
   "outputs": [
    {
     "name": "stdout",
     "output_type": "stream",
     "text": [
      "Train on 454904 samples, validate on 113726 samples\n",
      "Epoch 1/100\n",
      "454904/454904 [==============================] - 31s 68us/step - loss: 12.0141 - accuracy: 0.5724 - val_loss: 11.9220 - val_accuracy: 0.6358\n",
      "Epoch 2/100\n",
      "454904/454904 [==============================] - 29s 63us/step - loss: 11.7785 - accuracy: 0.6647 - val_loss: 11.8994 - val_accuracy: 0.6777\n",
      "Epoch 3/100\n",
      "454904/454904 [==============================] - 30s 66us/step - loss: 11.7641 - accuracy: 0.6856 - val_loss: 11.8877 - val_accuracy: 0.7022\n",
      "Epoch 4/100\n",
      "454904/454904 [==============================] - 30s 67us/step - loss: 11.7486 - accuracy: 0.7081 - val_loss: 11.8699 - val_accuracy: 0.7185\n",
      "Epoch 5/100\n",
      "454904/454904 [==============================] - 31s 67us/step - loss: 11.7414 - accuracy: 0.7147 - val_loss: 11.8725 - val_accuracy: 0.7153\n",
      "Epoch 6/100\n",
      "454904/454904 [==============================] - 29s 65us/step - loss: 11.7376 - accuracy: 0.7164 - val_loss: 11.8636 - val_accuracy: 0.7119\n",
      "Epoch 7/100\n",
      "454904/454904 [==============================] - 29s 64us/step - loss: 11.7348 - accuracy: 0.7164 - val_loss: 11.8719 - val_accuracy: 0.7028\n",
      "Epoch 8/100\n",
      "454904/454904 [==============================] - 29s 63us/step - loss: 11.7321 - accuracy: 0.7216 - val_loss: 11.8593 - val_accuracy: 0.7260\n",
      "Epoch 9/100\n",
      "454904/454904 [==============================] - 30s 66us/step - loss: 11.7300 - accuracy: 0.7281 - val_loss: 11.8602 - val_accuracy: 0.7269\n",
      "Epoch 10/100\n",
      "454904/454904 [==============================] - 30s 66us/step - loss: 11.7288 - accuracy: 0.7308 - val_loss: 11.8560 - val_accuracy: 0.7389\n",
      "Epoch 11/100\n",
      "454904/454904 [==============================] - 30s 66us/step - loss: 11.7282 - accuracy: 0.7316 - val_loss: 11.8591 - val_accuracy: 0.7376\n",
      "Epoch 12/100\n",
      "454904/454904 [==============================] - 30s 65us/step - loss: 11.7276 - accuracy: 0.7331 - val_loss: 11.8627 - val_accuracy: 0.7336\n",
      "Epoch 13/100\n",
      "454904/454904 [==============================] - 30s 66us/step - loss: 11.7274 - accuracy: 0.7332 - val_loss: 11.8552 - val_accuracy: 0.7329\n",
      "Epoch 14/100\n",
      "454904/454904 [==============================] - 31s 68us/step - loss: 11.7270 - accuracy: 0.7338 - val_loss: 11.8561 - val_accuracy: 0.7274\n",
      "Epoch 15/100\n",
      "454904/454904 [==============================] - 30s 66us/step - loss: 11.7270 - accuracy: 0.7333 - val_loss: 11.8545 - val_accuracy: 0.7315\n",
      "Epoch 16/100\n",
      "454904/454904 [==============================] - 29s 64us/step - loss: 11.7264 - accuracy: 0.7338 - val_loss: 11.8537 - val_accuracy: 0.7343\n",
      "Epoch 17/100\n",
      "454904/454904 [==============================] - 30s 67us/step - loss: 11.7257 - accuracy: 0.7346 - val_loss: 11.8522 - val_accuracy: 0.7405\n",
      "Epoch 18/100\n",
      "454904/454904 [==============================] - 30s 66us/step - loss: 11.7254 - accuracy: 0.7349 - val_loss: 11.8510 - val_accuracy: 0.7413\n",
      "Epoch 19/100\n",
      "454904/454904 [==============================] - 30s 66us/step - loss: 11.7256 - accuracy: 0.7349 - val_loss: 11.8642 - val_accuracy: 0.7270\n",
      "Epoch 20/100\n",
      "454904/454904 [==============================] - 29s 65us/step - loss: 11.7255 - accuracy: 0.7350 - val_loss: 11.8529 - val_accuracy: 0.7357\n",
      "Epoch 21/100\n",
      "454904/454904 [==============================] - 30s 66us/step - loss: 11.7253 - accuracy: 0.7352 - val_loss: 11.8559 - val_accuracy: 0.7373\n",
      "Epoch 22/100\n",
      "454904/454904 [==============================] - 29s 64us/step - loss: 11.7245 - accuracy: 0.7352 - val_loss: 11.8526 - val_accuracy: 0.7387\n",
      "Epoch 23/100\n",
      "454904/454904 [==============================] - 31s 68us/step - loss: 11.7244 - accuracy: 0.7356 - val_loss: 11.8511 - val_accuracy: 0.7361\n",
      "Epoch 24/100\n",
      "454904/454904 [==============================] - 31s 68us/step - loss: 11.7246 - accuracy: 0.7359 - val_loss: 11.8559 - val_accuracy: 0.7243\n",
      "Epoch 25/100\n",
      "454904/454904 [==============================] - 30s 66us/step - loss: 11.7249 - accuracy: 0.7355 - val_loss: 11.8558 - val_accuracy: 0.7360\n",
      "Epoch 26/100\n",
      "454904/454904 [==============================] - 29s 64us/step - loss: 11.7250 - accuracy: 0.7346 - val_loss: 11.8526 - val_accuracy: 0.7379\n",
      "Epoch 27/100\n",
      "454904/454904 [==============================] - 30s 66us/step - loss: 11.7241 - accuracy: 0.7351 - val_loss: 11.8535 - val_accuracy: 0.7336\n",
      "Epoch 28/100\n",
      "454904/454904 [==============================] - 29s 65us/step - loss: 11.7236 - accuracy: 0.7348 - val_loss: 11.8517 - val_accuracy: 0.7388\n",
      "Epoch 29/100\n",
      "454904/454904 [==============================] - 30s 65us/step - loss: 11.7235 - accuracy: 0.7351 - val_loss: 11.8494 - val_accuracy: 0.7382\n",
      "Epoch 30/100\n",
      "454904/454904 [==============================] - 30s 66us/step - loss: 11.7245 - accuracy: 0.7351 - val_loss: 11.8500 - val_accuracy: 0.7329\n",
      "Epoch 31/100\n",
      "454904/454904 [==============================] - 30s 67us/step - loss: 11.7238 - accuracy: 0.7355 - val_loss: 11.8540 - val_accuracy: 0.7355\n",
      "Epoch 32/100\n",
      "454904/454904 [==============================] - 219s 483us/step - loss: 11.7229 - accuracy: 0.7355 - val_loss: 11.8536 - val_accuracy: 0.7364\n",
      "Epoch 33/100\n",
      "454904/454904 [==============================] - 29s 63us/step - loss: 11.7234 - accuracy: 0.7356 - val_loss: 11.8616 - val_accuracy: 0.7229\n",
      "Epoch 34/100\n",
      "454904/454904 [==============================] - 29s 63us/step - loss: 11.7231 - accuracy: 0.7343 - val_loss: 11.8634 - val_accuracy: 0.7243\n",
      "Epoch 35/100\n",
      "454904/454904 [==============================] - 28s 62us/step - loss: 11.7228 - accuracy: 0.7356 - val_loss: 11.8496 - val_accuracy: 0.7342\n",
      "Epoch 36/100\n",
      "454904/454904 [==============================] - 28s 63us/step - loss: 11.7225 - accuracy: 0.7355 - val_loss: 11.8502 - val_accuracy: 0.7397\n",
      "Epoch 37/100\n",
      "454904/454904 [==============================] - 28s 61us/step - loss: 11.7223 - accuracy: 0.7373 - val_loss: 11.8614 - val_accuracy: 0.7352\n",
      "Epoch 38/100\n",
      "454904/454904 [==============================] - 28s 62us/step - loss: 11.7218 - accuracy: 0.7380 - val_loss: 11.8498 - val_accuracy: 0.7394\n",
      "Epoch 39/100\n",
      "454904/454904 [==============================] - 30s 67us/step - loss: 11.7222 - accuracy: 0.7387 - val_loss: 11.8498 - val_accuracy: 0.7407\n",
      "Epoch 40/100\n",
      "454904/454904 [==============================] - 28s 62us/step - loss: 11.7220 - accuracy: 0.7385 - val_loss: 11.8567 - val_accuracy: 0.7309\n",
      "Epoch 41/100\n",
      "454904/454904 [==============================] - 28s 63us/step - loss: 11.7216 - accuracy: 0.7394 - val_loss: 11.8540 - val_accuracy: 0.7269\n",
      "Epoch 42/100\n",
      "454904/454904 [==============================] - 28s 62us/step - loss: 11.7214 - accuracy: 0.7399 - val_loss: 11.8519 - val_accuracy: 0.7426\n",
      "Epoch 43/100\n",
      "454904/454904 [==============================] - 28s 62us/step - loss: 11.7215 - accuracy: 0.7408 - val_loss: 11.8479 - val_accuracy: 0.7411\n",
      "Epoch 44/100\n",
      "454904/454904 [==============================] - 29s 64us/step - loss: 11.7209 - accuracy: 0.7416 - val_loss: 11.8502 - val_accuracy: 0.7362\n",
      "Epoch 45/100\n",
      "454904/454904 [==============================] - 29s 64us/step - loss: 11.7214 - accuracy: 0.7415 - val_loss: 11.8533 - val_accuracy: 0.7389\n",
      "Epoch 46/100\n",
      "454904/454904 [==============================] - 28s 63us/step - loss: 11.7212 - accuracy: 0.7421 - val_loss: 11.8498 - val_accuracy: 0.7417\n",
      "Epoch 47/100\n",
      "454904/454904 [==============================] - 30s 66us/step - loss: 11.7206 - accuracy: 0.7432 - val_loss: 11.8489 - val_accuracy: 0.7449\n",
      "Epoch 48/100\n",
      "454904/454904 [==============================] - 30s 65us/step - loss: 11.7209 - accuracy: 0.7429 - val_loss: 11.8488 - val_accuracy: 0.7467\n",
      "Epoch 49/100\n",
      "454904/454904 [==============================] - 29s 64us/step - loss: 11.7206 - accuracy: 0.7440 - val_loss: 11.8486 - val_accuracy: 0.7447\n",
      "Epoch 50/100\n",
      "454904/454904 [==============================] - 30s 65us/step - loss: 11.7205 - accuracy: 0.7439 - val_loss: 11.8516 - val_accuracy: 0.7411\n",
      "Epoch 51/100\n",
      "454904/454904 [==============================] - 31s 68us/step - loss: 11.7204 - accuracy: 0.7439 - val_loss: 11.8498 - val_accuracy: 0.7507\n",
      "Epoch 52/100\n",
      "454904/454904 [==============================] - 29s 64us/step - loss: 11.7209 - accuracy: 0.7431 - val_loss: 11.8484 - val_accuracy: 0.7462\n",
      "Epoch 53/100\n",
      "454904/454904 [==============================] - 29s 64us/step - loss: 11.7203 - accuracy: 0.7445 - val_loss: 11.8471 - val_accuracy: 0.7515\n"
     ]
    },
    {
     "name": "stdout",
     "output_type": "stream",
     "text": [
      "Epoch 54/100\n",
      "454904/454904 [==============================] - 29s 63us/step - loss: 11.7202 - accuracy: 0.7440 - val_loss: 11.8592 - val_accuracy: 0.7424\n",
      "Epoch 55/100\n",
      "454904/454904 [==============================] - 29s 64us/step - loss: 11.7202 - accuracy: 0.7436 - val_loss: 11.8491 - val_accuracy: 0.7366\n",
      "Epoch 56/100\n",
      "454904/454904 [==============================] - 28s 62us/step - loss: 11.7201 - accuracy: 0.7445 - val_loss: 11.8504 - val_accuracy: 0.7477\n",
      "Epoch 57/100\n",
      "454904/454904 [==============================] - 28s 62us/step - loss: 11.7200 - accuracy: 0.7450 - val_loss: 11.8855 - val_accuracy: 0.7350\n",
      "Epoch 58/100\n",
      "454904/454904 [==============================] - 29s 65us/step - loss: 11.7198 - accuracy: 0.7451 - val_loss: 11.8470 - val_accuracy: 0.7518\n",
      "Epoch 59/100\n",
      "454904/454904 [==============================] - 29s 63us/step - loss: 11.7199 - accuracy: 0.7449 - val_loss: 11.8482 - val_accuracy: 0.7382\n",
      "Epoch 60/100\n",
      "454904/454904 [==============================] - 28s 63us/step - loss: 11.7200 - accuracy: 0.7448 - val_loss: 11.8468 - val_accuracy: 0.7459\n",
      "Epoch 61/100\n",
      "454904/454904 [==============================] - 29s 63us/step - loss: 11.7198 - accuracy: 0.7452 - val_loss: 11.8529 - val_accuracy: 0.7398\n",
      "Epoch 62/100\n",
      "454904/454904 [==============================] - 29s 64us/step - loss: 11.7200 - accuracy: 0.7455 - val_loss: 11.8473 - val_accuracy: 0.7436\n",
      "Epoch 63/100\n",
      "454904/454904 [==============================] - 30s 66us/step - loss: 11.7201 - accuracy: 0.7449 - val_loss: 11.8492 - val_accuracy: 0.7511\n",
      "Epoch 64/100\n",
      "454904/454904 [==============================] - 29s 65us/step - loss: 11.7200 - accuracy: 0.7454 - val_loss: 11.8476 - val_accuracy: 0.7493\n",
      "Epoch 65/100\n",
      "454904/454904 [==============================] - 31s 67us/step - loss: 11.7199 - accuracy: 0.7453 - val_loss: 11.8479 - val_accuracy: 0.7468\n",
      "Epoch 66/100\n",
      "454904/454904 [==============================] - 29s 64us/step - loss: 11.7196 - accuracy: 0.7459 - val_loss: 11.8481 - val_accuracy: 0.7430\n",
      "Epoch 67/100\n",
      "454904/454904 [==============================] - 29s 63us/step - loss: 11.7197 - accuracy: 0.7461 - val_loss: 11.8513 - val_accuracy: 0.7470\n",
      "Epoch 68/100\n",
      "454904/454904 [==============================] - 30s 65us/step - loss: 11.7196 - accuracy: 0.7466 - val_loss: 11.8451 - val_accuracy: 0.7477\n",
      "Epoch 69/100\n",
      "454904/454904 [==============================] - 29s 65us/step - loss: 11.7196 - accuracy: 0.7467 - val_loss: 11.8473 - val_accuracy: 0.7485\n",
      "Epoch 70/100\n",
      "454904/454904 [==============================] - 29s 65us/step - loss: 11.7197 - accuracy: 0.7471 - val_loss: 11.8497 - val_accuracy: 0.7504\n",
      "Epoch 71/100\n",
      "454904/454904 [==============================] - 29s 63us/step - loss: 11.7195 - accuracy: 0.7470 - val_loss: 11.8530 - val_accuracy: 0.7466\n",
      "Epoch 72/100\n",
      "454904/454904 [==============================] - 30s 65us/step - loss: 11.7194 - accuracy: 0.7472 - val_loss: 11.8472 - val_accuracy: 0.7545\n",
      "Epoch 73/100\n",
      "454904/454904 [==============================] - 29s 65us/step - loss: 11.7193 - accuracy: 0.7479 - val_loss: 11.8475 - val_accuracy: 0.7444\n",
      "Epoch 74/100\n",
      "454904/454904 [==============================] - 31s 68us/step - loss: 11.7191 - accuracy: 0.7479 - val_loss: 11.8449 - val_accuracy: 0.7464\n",
      "Epoch 75/100\n",
      "454904/454904 [==============================] - 42s 93us/step - loss: 11.7189 - accuracy: 0.7482 - val_loss: 11.8472 - val_accuracy: 0.7575\n",
      "Epoch 76/100\n",
      "454904/454904 [==============================] - 38s 84us/step - loss: 11.7191 - accuracy: 0.7480 - val_loss: 11.8451 - val_accuracy: 0.7400\n",
      "Epoch 77/100\n",
      "454904/454904 [==============================] - 28s 63us/step - loss: 11.7194 - accuracy: 0.7482 - val_loss: 11.8481 - val_accuracy: 0.7428\n",
      "Epoch 78/100\n",
      "454904/454904 [==============================] - 30s 65us/step - loss: 11.7192 - accuracy: 0.7488 - val_loss: 11.8503 - val_accuracy: 0.7442\n",
      "Epoch 79/100\n",
      "454904/454904 [==============================] - 29s 64us/step - loss: 11.7189 - accuracy: 0.7492 - val_loss: 11.8496 - val_accuracy: 0.7452\n",
      "Epoch 80/100\n",
      "454904/454904 [==============================] - 29s 63us/step - loss: 11.7190 - accuracy: 0.7491 - val_loss: 11.8475 - val_accuracy: 0.7545\n",
      "Epoch 81/100\n",
      "454904/454904 [==============================] - 30s 67us/step - loss: 11.7191 - accuracy: 0.7498 - val_loss: 11.8467 - val_accuracy: 0.7482\n",
      "Epoch 82/100\n",
      "454904/454904 [==============================] - 29s 64us/step - loss: 11.7190 - accuracy: 0.7498 - val_loss: 11.8521 - val_accuracy: 0.7420\n",
      "Epoch 83/100\n",
      "454904/454904 [==============================] - 29s 63us/step - loss: 11.7189 - accuracy: 0.7495 - val_loss: 11.8449 - val_accuracy: 0.7467\n",
      "Epoch 84/100\n",
      "454904/454904 [==============================] - 30s 67us/step - loss: 11.7191 - accuracy: 0.7494 - val_loss: 11.8450 - val_accuracy: 0.7546\n",
      "Epoch 85/100\n",
      "454904/454904 [==============================] - 29s 65us/step - loss: 11.7185 - accuracy: 0.7499 - val_loss: 11.8475 - val_accuracy: 0.7551\n",
      "Epoch 86/100\n",
      "454904/454904 [==============================] - 29s 63us/step - loss: 11.7189 - accuracy: 0.7505 - val_loss: 11.8472 - val_accuracy: 0.7541\n",
      "Epoch 87/100\n",
      "454904/454904 [==============================] - 30s 66us/step - loss: 11.7187 - accuracy: 0.7509 - val_loss: 11.8509 - val_accuracy: 0.7523\n",
      "Epoch 88/100\n",
      "454904/454904 [==============================] - 29s 65us/step - loss: 11.7187 - accuracy: 0.7508 - val_loss: 11.8513 - val_accuracy: 0.7483\n",
      "Epoch 89/100\n",
      "454904/454904 [==============================] - 29s 65us/step - loss: 11.7186 - accuracy: 0.7517 - val_loss: 11.8490 - val_accuracy: 0.7413\n",
      "Epoch 90/100\n",
      "454904/454904 [==============================] - 30s 66us/step - loss: 11.7187 - accuracy: 0.7523 - val_loss: 11.8495 - val_accuracy: 0.7456\n",
      "Epoch 91/100\n",
      "454904/454904 [==============================] - 30s 66us/step - loss: 11.7185 - accuracy: 0.7522 - val_loss: 11.8489 - val_accuracy: 0.7562\n",
      "Epoch 92/100\n",
      "454904/454904 [==============================] - 29s 64us/step - loss: 11.7183 - accuracy: 0.7530 - val_loss: 11.8570 - val_accuracy: 0.7465\n",
      "Epoch 93/100\n",
      "454904/454904 [==============================] - 30s 65us/step - loss: 11.7183 - accuracy: 0.7531 - val_loss: 11.8455 - val_accuracy: 0.7622\n",
      "Epoch 94/100\n",
      "454904/454904 [==============================] - 31s 69us/step - loss: 11.7183 - accuracy: 0.7532 - val_loss: 11.8441 - val_accuracy: 0.7609\n",
      "Epoch 95/100\n",
      "454904/454904 [==============================] - 30s 66us/step - loss: 11.7182 - accuracy: 0.7536 - val_loss: 11.8489 - val_accuracy: 0.7527\n",
      "Epoch 96/100\n",
      "454904/454904 [==============================] - 30s 67us/step - loss: 11.7183 - accuracy: 0.7536 - val_loss: 11.8588 - val_accuracy: 0.7372\n",
      "Epoch 97/100\n",
      "454904/454904 [==============================] - 30s 67us/step - loss: 11.7184 - accuracy: 0.7533 - val_loss: 11.8485 - val_accuracy: 0.7457\n",
      "Epoch 98/100\n",
      "454904/454904 [==============================] - 30s 67us/step - loss: 11.7182 - accuracy: 0.7533 - val_loss: 11.8598 - val_accuracy: 0.7387\n",
      "Epoch 99/100\n",
      "454904/454904 [==============================] - 30s 65us/step - loss: 11.7180 - accuracy: 0.7534 - val_loss: 11.8461 - val_accuracy: 0.7561\n",
      "Epoch 100/100\n",
      "454904/454904 [==============================] - 30s 66us/step - loss: 11.7179 - accuracy: 0.7549 - val_loss: 11.8454 - val_accuracy: 0.7604\n"
     ]
    },
    {
     "data": {
      "text/plain": [
       "<keras.engine.training.Model at 0x18e07e9feb8>"
      ]
     },
     "execution_count": 37,
     "metadata": {},
     "output_type": "execute_result"
    }
   ],
   "source": [
    "autoencoder.compile(optimizer = 'adam',\n",
    "                   loss = 'mean_squared_error',\n",
    "                    metrics = ['accuracy'])\n",
    "checkpointer = ModelCheckpoint(filepath = 'autoencoder.h5',verbose = 0, save_best_only = True)\n",
    "\n",
    "tensorboard = TensorBoard(log_dir= '.logs',\n",
    "                         histogram_freq = 0,\n",
    "                         write_graph = True,\n",
    "                         write_images =True)\n",
    "\n",
    "history = autoencoder.fit(X_feature, X_feature,epochs = 100, batch_size = 30, shuffle = True,\n",
    "                          validation_data = (X_target, X_target),\n",
    "                          verbose = 1,\n",
    "                          callbacks = [checkpointer, tensorboard]).history\n",
    "load_model('autoencoder.h5')"
   ]
  },
  {
   "cell_type": "code",
   "execution_count": 39,
   "metadata": {},
   "outputs": [
    {
     "data": {
      "text/plain": [
       "<matplotlib.legend.Legend at 0x18e07d2f470>"
      ]
     },
     "execution_count": 39,
     "metadata": {},
     "output_type": "execute_result"
    },
    {
     "data": {
      "image/png": "[encoded data removed]",
      "text/plain": [
       "<Figure size 432x288 with 1 Axes>"
      ]
     },
     "metadata": {
      "needs_background": "light"
     },
     "output_type": "display_data"
    }
   ],
   "source": [
    "plt.plot(history['loss'])\n",
    "plt.plot(history['val_loss'])\n",
    "plt.title('model loss' , fontweight='bold', fontsize = '15', color = \"gray\")\n",
    "plt.ylabel('loss' ,fontweight='bold', fontsize = '15', color = \"gray\")\n",
    "plt.xlabel('epoch', fontweight='bold', fontsize = '15', color = \"gray\")\n",
    "plt.grid(b=True, which='major', color='#666666', linestyle='-')\n",
    "plt.legend(['train' , 'test'], loc = 'upper right')"
   ]
  },
  {
   "cell_type": "code",
   "execution_count": 40,
   "metadata": {},
   "outputs": [
    {
     "data": {
      "text/plain": [
       "(113726, 29)"
      ]
     },
     "execution_count": 40,
     "metadata": {},
     "output_type": "execute_result"
    }
   ],
   "source": [
    "predictions = autoencoder.predict(X_target)\n",
    "predictions.shape"
   ]
  },
  {
   "cell_type": "code",
   "execution_count": 41,
   "metadata": {},
   "outputs": [],
   "source": [
    "mean_squared_error = np.mean(np.power(X_target - predictions, 2), axis =1)\n",
    "# mean_squared_error\n",
    "error_df = pd.DataFrame({'error':mean_squared_error, 'true_class':y_target})"
   ]
  },
  {
   "cell_type": "code",
   "execution_count": 42,
   "metadata": {},
   "outputs": [
    {
     "data": {
      "text/html": [
       "<div>\n",
       "<style scoped>\n",
       "    .dataframe tbody tr th:only-of-type {\n",
       "        vertical-align: middle;\n",
       "    }\n",
       "\n",
       "    .dataframe tbody tr th {\n",
       "        vertical-align: top;\n",
       "    }\n",
       "\n",
       "    .dataframe thead th {\n",
       "        text-align: right;\n",
       "    }\n",
       "</style>\n",
       "<table border=\"1\" class=\"dataframe\">\n",
       "  <thead>\n",
       "    <tr style=\"text-align: right;\">\n",
       "      <th></th>\n",
       "      <th>error</th>\n",
       "      <th>true_class</th>\n",
       "    </tr>\n",
       "  </thead>\n",
       "  <tbody>\n",
       "    <tr>\n",
       "      <th>count</th>\n",
       "      <td>113726.000000</td>\n",
       "      <td>113726.000000</td>\n",
       "    </tr>\n",
       "    <tr>\n",
       "      <th>mean</th>\n",
       "      <td>11.828759</td>\n",
       "      <td>0.500994</td>\n",
       "    </tr>\n",
       "    <tr>\n",
       "      <th>std</th>\n",
       "      <td>25.364149</td>\n",
       "      <td>0.500001</td>\n",
       "    </tr>\n",
       "    <tr>\n",
       "      <th>min</th>\n",
       "      <td>0.077178</td>\n",
       "      <td>0.000000</td>\n",
       "    </tr>\n",
       "    <tr>\n",
       "      <th>25%</th>\n",
       "      <td>0.379438</td>\n",
       "      <td>0.000000</td>\n",
       "    </tr>\n",
       "    <tr>\n",
       "      <th>50%</th>\n",
       "      <td>0.919356</td>\n",
       "      <td>1.000000</td>\n",
       "    </tr>\n",
       "    <tr>\n",
       "      <th>75%</th>\n",
       "      <td>8.211619</td>\n",
       "      <td>1.000000</td>\n",
       "    </tr>\n",
       "    <tr>\n",
       "      <th>max</th>\n",
       "      <td>392.905457</td>\n",
       "      <td>1.000000</td>\n",
       "    </tr>\n",
       "  </tbody>\n",
       "</table>\n",
       "</div>"
      ],
      "text/plain": [
       "               error     true_class\n",
       "count  113726.000000  113726.000000\n",
       "mean       11.828759       0.500994\n",
       "std        25.364149       0.500001\n",
       "min         0.077178       0.000000\n",
       "25%         0.379438       0.000000\n",
       "50%         0.919356       1.000000\n",
       "75%         8.211619       1.000000\n",
       "max       392.905457       1.000000"
      ]
     },
     "execution_count": 42,
     "metadata": {},
     "output_type": "execute_result"
    }
   ],
   "source": [
    "error_df.describe()"
   ]
  },
  {
   "cell_type": "code",
   "execution_count": 43,
   "metadata": {},
   "outputs": [],
   "source": [
    "from sklearn.metrics import (confusion_matrix, precision_recall_curve, auc,\n",
    "                             roc_curve, recall_score, classification_report, f1_score,\n",
    "                             precision_recall_fscore_support)"
   ]
  },
  {
   "cell_type": "code",
   "execution_count": 44,
   "metadata": {},
   "outputs": [
    {
     "data": {
      "image/png": "[encoded data removed]",
      "text/plain": [
       "<Figure size 432x288 with 1 Axes>"
      ]
     },
     "metadata": {
      "needs_background": "light"
     },
     "output_type": "display_data"
    }
   ],
   "source": [
    "false_pos_rate, true_pos_rate, thresholds = roc_curve(error_df.true_class, error_df.error)\n",
    "roc_auc = auc(false_pos_rate, true_pos_rate)\n",
    "\n",
    "plt.figure()\n",
    "plt.plot(false_pos_rate, true_pos_rate, color='darkorange', lw=1, label='AUC curve (area = %0.3f)' % roc_auc)\n",
    "plt.plot([0, 1], [0, 1], color='navy', lw=5, linestyle='--')\n",
    "plt.xlim([0.0, 1.0])\n",
    "plt.ylim([0.0, 1.05])\n",
    "plt.xlabel('False Positive Rate/ 1 - Specificity ',  fontweight='bold', fontsize = '10', color = \"gray\")\n",
    "plt.ylabel('True Positive Rate / sensitivity ' ,  fontweight='bold', fontsize = '10', color = \"gray\")\n",
    "plt.title('Receiver operating characteristic (ROC)')\n",
    "plt.legend(loc=\"lower right\")\n",
    "plt.grid(b=True, which='major', color='#666666', linestyle='-')\n",
    "plt.show()\n",
    "# fpr, tpr, thresholds = roc_curve(error_df.true_class, error_df.error)\n",
    "# roc_auc = auc(fpr, tpr)\n",
    "\n",
    "# plt.title('Receiver Operating Characteristic')\n",
    "# plt.plot(fpr, tpr, label='AUC = %0.4f'% roc_auc)\n",
    "# plt.legend(loc='lower right')\n",
    "# plt.plot([0,1],[0,1],'r--')\n",
    "# plt.xlim([-0.001, 1])\n",
    "# plt.ylim([0, 1.001])\n",
    "# plt.ylabel('True Positive Rate')\n",
    "# plt.xlabel('False Positive Rate')\n",
    "# plt.show();"
   ]
  },
  {
   "cell_type": "code",
   "execution_count": 45,
   "metadata": {},
   "outputs": [
    {
     "data": {
      "image/png": "[encoded data removed]",
      "text/plain": [
       "<Figure size 432x288 with 1 Axes>"
      ]
     },
     "metadata": {
      "needs_background": "light"
     },
     "output_type": "display_data"
    }
   ],
   "source": [
    "precision, recall, th = precision_recall_curve(error_df.true_class, error_df.error)\n",
    "plt.plot(recall, precision, 'b', label='Precision-Recall curve')\n",
    "plt.title('Recall vs Precision')\n",
    "plt.xlabel('Recall',fontweight='bold', fontsize = '10', color = \"gray\")\n",
    "plt.ylabel('Precision',fontweight='bold', fontsize = '10', color = \"gray\")\n",
    "plt.grid(b=True, which='major', color='#666666', linestyle='-')\n",
    "plt.show()"
   ]
  },
  {
   "cell_type": "code",
   "execution_count": 46,
   "metadata": {},
   "outputs": [
    {
     "data": {
      "image/png": "[encoded data removed]",
      "text/plain": [
       "<Figure size 432x288 with 1 Axes>"
      ]
     },
     "metadata": {
      "needs_background": "light"
     },
     "output_type": "display_data"
    }
   ],
   "source": [
    "plt.plot(th, precision[1:], 'b', label='Threshold-Precision curve')\n",
    "plt.title('Precision for different threshold values')\n",
    "plt.xlabel('Threshold', fontweight='bold', fontsize = '10', color = \"gray\")\n",
    "plt.ylabel('Precision',fontweight='bold', fontsize = '10', color = \"gray\" )\n",
    "plt.grid(b=True, which='major', color='#666666', linestyle='-')\n",
    "plt.show()"
   ]
  },
  {
   "cell_type": "code",
   "execution_count": 47,
   "metadata": {},
   "outputs": [
    {
     "data": {
      "image/png": "[encoded data removed]",
      "text/plain": [
       "<Figure size 432x288 with 1 Axes>"
      ]
     },
     "metadata": {
      "needs_background": "light"
     },
     "output_type": "display_data"
    }
   ],
   "source": [
    "plt.plot(th, recall[1:], 'b', label='Threshold-Recall curve')\n",
    "plt.title('Recall for different threshold values', fontweight='bold', fontsize = '10', color = \"gray\")\n",
    "plt.xlabel('Reconstruction error', fontweight='bold', fontsize = '10', color = \"gray\")\n",
    "plt.ylabel('Recall', fontweight='bold', fontsize = '10', color = \"gray\")\n",
    "plt.grid(b=True, which='major', color='#666666', linestyle='-')\n",
    "plt.show()"
   ]
  },
  {
   "cell_type": "code",
   "execution_count": 48,
   "metadata": {},
   "outputs": [
    {
     "data": {
      "image/png": "[encoded data removed]",
      "text/plain": [
       "<Figure size 432x288 with 1 Axes>"
      ]
     },
     "metadata": {
      "needs_background": "light"
     },
     "output_type": "display_data"
    }
   ],
   "source": [
    "threshold = 2.9\n",
    "\n",
    "groups = error_df.groupby('true_class')\n",
    "fig, ax = plt.subplots()\n",
    "\n",
    "for name, group in groups:\n",
    "    ax.plot(group.index, group.error, marker='o', ms=3.5, linestyle='',\n",
    "            label= \"Fraud\" if name == 1 else \"Normal\")\n",
    "ax.hlines(threshold, ax.get_xlim()[0], ax.get_xlim()[1], colors=\"r\", zorder=100, label='Threshold')\n",
    "ax.legend()\n",
    "plt.title(\"Reconstruction error for different classes\", fontweight='bold', fontsize = '10', color = \"gray\")\n",
    "plt.ylabel(\"Reconstruction error\", fontweight='bold', fontsize = '10', color = \"gray\")\n",
    "plt.xlabel(\"Data point index\", fontweight='bold', fontsize = '10', color = \"gray\")\n",
    "plt.grid(b=True, which='major', color='#666666', linestyle='-')\n",
    "plt.show();"
   ]
  },
  {
   "cell_type": "code",
   "execution_count": 49,
   "metadata": {},
   "outputs": [
    {
     "data": {
      "text/plain": [
       "array([[55359,  1391],\n",
       "       [11171, 45805]], dtype=int64)"
      ]
     },
     "execution_count": 49,
     "metadata": {},
     "output_type": "execute_result"
    }
   ],
   "source": [
    "y_pred = [1 if e > threshold else 0 for e in error_df.error.values]\n",
    "conf_matrix = confusion_matrix(error_df.true_class, y_pred)\n",
    "conf_matrix"
   ]
  },
  {
   "cell_type": "code",
   "execution_count": 50,
   "metadata": {},
   "outputs": [
    {
     "name": "stdout",
     "output_type": "stream",
     "text": [
      "              precision    recall  f1-score   support\n",
      "\n",
      "           0       0.83      0.98      0.90     56750\n",
      "           1       0.97      0.80      0.88     56976\n",
      "\n",
      "    accuracy                           0.89    113726\n",
      "   macro avg       0.90      0.89      0.89    113726\n",
      "weighted avg       0.90      0.89      0.89    113726\n",
      "\n"
     ]
    }
   ],
   "source": [
    "from sklearn.metrics import classification_report\n",
    "print(classification_report(error_df.true_class, y_pred))"
   ]
  },
  {
   "cell_type": "code",
   "execution_count": 53,
   "metadata": {},
   "outputs": [
    {
     "data": {
      "image/png": "[encoded data removed]",
      "text/plain": [
       "<Figure size 432x288 with 2 Axes>"
      ]
     },
     "metadata": {
      "needs_background": "light"
     },
     "output_type": "display_data"
    }
   ],
   "source": [
    "sns.heatmap(conf_matrix, xticklabels=LABELS, yticklabels=LABELS, annot=True, fmt=\"d\",cmap=plt.cm.BuGn);\n",
    "plt.title(\"Confusion matrix\")\n",
    "plt.ylabel('Actual class')\n",
    "plt.xlabel('Predicted class')\n",
    "plt.show()"
   ]
  },
  {
   "cell_type": "code",
   "execution_count": null,
   "metadata": {},
   "outputs": [],
   "source": []
  }
 ],
 "metadata": {
  "kernelspec": {
   "display_name": "Python 3",
   "language": "python",
   "name": "python3"
  },
  "language_info": {
   "codemirror_mode": {
    "name": "ipython",
    "version": 3
   },
   "file_extension": ".py",
   "mimetype": "text/x-python",
   "name": "python",
   "nbconvert_exporter": "python",
   "pygments_lexer": "ipython3",
   "version": "3.7.3"
  }
 },
 "nbformat": 4,
 "nbformat_minor": 2
}
